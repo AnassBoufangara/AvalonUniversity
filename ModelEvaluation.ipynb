{
 "cells": [
  {
   "cell_type": "markdown",
   "id": "da1bd2d4",
   "metadata": {},
   "source": [
    "# ASR Model Evaluation and Testing\n",
    "The model was developed using the **Kaldi Toolkit** and the **TIMIT Dataset**. It was trained on an **Ubuntu OS (Linux)**.\n",
    "The system with the following specifications:\n",
    "* 16 GB RAM\n",
    "* 1000 GB SSD\n",
    "* 8 GB GPU\n",
    " "
   ]
  },
  {
   "cell_type": "code",
   "execution_count": 2,
   "id": "17fa728d",
   "metadata": {},
   "outputs": [
    {
     "name": "stdout",
     "output_type": "stream",
     "text": [
      "Requirement already satisfied: jiwer in c:\\users\\anass\\anaconda3\\lib\\site-packages (3.0.4)\n",
      "Requirement already satisfied: click<9.0.0,>=8.1.3 in c:\\users\\anass\\anaconda3\\lib\\site-packages (from jiwer) (8.1.7)\n",
      "Requirement already satisfied: rapidfuzz<4,>=3 in c:\\users\\anass\\anaconda3\\lib\\site-packages (from jiwer) (3.9.5)\n",
      "Requirement already satisfied: colorama in c:\\users\\anass\\anaconda3\\lib\\site-packages (from click<9.0.0,>=8.1.3->jiwer) (0.4.6)\n",
      "Requirement already satisfied: playsound in c:\\users\\anass\\anaconda3\\lib\\site-packages (1.3.0)\n"
     ]
    }
   ],
   "source": [
    "# Install the jiwer library, which is used for measuring word error rate (WER) and other transcription errors.\n",
    "!pip install jiwer\n",
    "# Install the playsound library, which is used for playing sound files.\n",
    "!pip install playsound"
   ]
  },
  {
   "cell_type": "code",
   "execution_count": null,
   "id": "532ae95d",
   "metadata": {},
   "outputs": [],
   "source": [
    "# Import the pandas library, which is used for data manipulation and analysis.\n",
    "import pandas as pd\n",
    "# Import the pyplot module from the matplotlib library, which is used for creating static, animated, and interactive visualizations in Python.\n",
    "import matplotlib.pyplot as plt\n",
    "# Import the pandas library again (redundant as it was already imported above).\n",
    "import pandas as pd\n",
    "# Import the subprocess module, which allows you to spawn new processes, connect to their input/output/error pipes, and obtain their return codes.\n",
    "import subprocess\n",
    "# Import the getpass module, which provides a way to securely handle password prompts.\n",
    "import getpass\n",
    "# Import the os module, which provides a way of using operating system-dependent functionality like reading or writing to the file system.\n",
    "import os\n",
    "# Import the wer function from the jiwer library, which calculates the word error rate for transcription error measurement.\n",
    "from jiwer import wer\n",
    "# Import the re module, which provides support for regular expressions in Python.\n",
    "import re\n",
    "# Import the playsound function from the playsound library, which is used for playing sound files.\n",
    "from playsound import playsound\n",
    "# Import the AudioSegment class from the pydub library, which is used for manipulating audio files.\n",
    "from pydub import AudioSegment\n",
    "# Import the play function from the pydub.playback module, which is used to play audio segments.\n",
    "from pydub.playback import play\n"
   ]
  },
  {
   "cell_type": "markdown",
   "id": "acb204cd",
   "metadata": {},
   "source": [
    "## 1. Preparing the Environment for Kaldi TIMIT Example Scripts"
   ]
  },
  {
   "cell_type": "code",
   "execution_count": 3,
   "id": "4de8f91c",
   "metadata": {},
   "outputs": [
    {
     "name": "stdout",
     "output_type": "stream",
     "text": [
      "/home/anas/Desktop/NewKaldiFolder/kaldi/egs/timit/s5\n"
     ]
    }
   ],
   "source": [
    "# Change the current working directory to the specified path.\n",
    "# This path navigates to the 'timit/s5' directory inside the Kaldi example scripts for the TIMIT dataset.\n",
    "# The command uses a magic command (%) which is specific to Jupyter notebooks or IPython environments.\n",
    "%cd ../Desktop/NewKaldiFolder/kaldi/egs/timit/s5"
   ]
  },
  {
   "cell_type": "code",
   "execution_count": 4,
   "id": "65c72502",
   "metadata": {
    "scrolled": true
   },
   "outputs": [
    {
     "data": {
      "text/plain": [
       "['%WER 31.7 | 400 15057 | 72.2 19.9 7.9 4.0 31.7 100.0 | -0.805 | exp/mono/decode_dev/score_4/ctm_39phn.filt.sys',\n",
       " '%WER 32.0 | 192 7215 | 71.2 19.2 9.6 3.2 32.0 100.0 | -0.433 | exp/mono/decode_test/score_5/ctm_39phn.filt.sys',\n",
       " '%WER 24.9 | 400 15057 | 79.0 15.8 5.2 3.9 24.9 99.8 | -0.165 | exp/tri1/decode_dev/score_10/ctm_39phn.filt.sys',\n",
       " '%WER 26.7 | 192 7215 | 77.2 17.2 5.6 3.9 26.7 100.0 | -0.150 | exp/tri1/decode_test/score_10/ctm_39phn.filt.sys',\n",
       " '%WER 22.9 | 400 15057 | 80.8 14.2 5.0 3.7 22.9 99.5 | -0.288 | exp/tri2/decode_dev/score_10/ctm_39phn.filt.sys',\n",
       " '%WER 23.7 | 192 7215 | 79.8 14.8 5.4 3.5 23.7 99.5 | -0.280 | exp/tri2/decode_test/score_10/ctm_39phn.filt.sys',\n",
       " '%WER 20.7 | 400 15057 | 82.5 12.8 4.8 3.2 20.7 99.3 | -0.565 | exp/tri3/decode_dev/score_10/ctm_39phn.filt.sys',\n",
       " '%WER 23.8 | 400 15057 | 80.4 15.0 4.6 4.2 23.8 99.8 | -0.398 | exp/tri3/decode_dev.si/score_8/ctm_39phn.filt.sys',\n",
       " '%WER 21.4 | 192 7215 | 81.7 13.5 4.8 3.2 21.4 99.5 | -0.637 | exp/tri3/decode_test/score_10/ctm_39phn.filt.sys',\n",
       " '%WER 24.1 | 192 7215 | 79.1 15.2 5.7 3.2 24.1 99.5 | -0.223 | exp/tri3/decode_test.si/score_10/ctm_39phn.filt.sys',\n",
       " '%WER 17.5 | 400 15057 | 84.9 10.6 4.5 2.4 17.5 99.3 | -0.797 | exp/dnn4_pretrain-dbn_dnn/decode_dev/score_5/ctm_39phn.filt.sys',\n",
       " '%WER 18.7 | 192 7215 | 84.0 11.3 4.7 2.7 18.7 99.0 | -1.289 | exp/dnn4_pretrain-dbn_dnn/decode_test/score_4/ctm_39phn.filt.sys',\n",
       " '%WER 17.6 | 400 15057 | 85.1 10.6 4.3 2.6 17.6 99.0 | -0.789 | exp/dnn4_pretrain-dbn_dnn_smbr/decode_dev_it1/score_5/ctm_39phn.filt.sys',\n",
       " '%WER 17.3 | 400 15057 | 85.5 10.6 3.9 2.8 17.3 99.0 | -0.538 | exp/dnn4_pretrain-dbn_dnn_smbr/decode_dev_it6/score_6/ctm_39phn.filt.sys',\n",
       " '%WER 18.6 | 192 7215 | 83.8 11.3 4.9 2.4 18.6 99.0 | -0.655 | exp/dnn4_pretrain-dbn_dnn_smbr/decode_test_it1/score_6/ctm_39phn.filt.sys',\n",
       " '%WER 18.6 | 192 7215 | 84.3 11.4 4.3 2.9 18.6 99.5 | -0.640 | exp/dnn4_pretrain-dbn_dnn_smbr/decode_test_it6/score_6/ctm_39phn.filt.sys']"
      ]
     },
     "execution_count": 4,
     "metadata": {},
     "output_type": "execute_result"
    }
   ],
   "source": [
    "# Reviewing the Results After Completing Module Training\n",
    "output = !./RESULTS\n",
    "output"
   ]
  },
  {
   "cell_type": "code",
   "execution_count": 21,
   "id": "be431fd0",
   "metadata": {},
   "outputs": [],
   "source": [
    "# Initialize lists to hold each column of data\n",
    "wers = []\n",
    "params = []\n",
    "times = []\n",
    "paths = []\n",
    "\n",
    "# Iterate over each line in the output\n",
    "for line in output:\n",
    "    parts = line.split('|')  # Split the line into parts\n",
    "    if len(parts) >= 5:  # Make sure there are enough parts\n",
    "        wers.append(parts[0].strip())  # Get WER\n",
    "        params.append(parts[1].strip())  # Get parameters\n",
    "        times.append(parts[3].strip())  # Get time taken\n",
    "        paths.append(parts[4].strip())  # Get the path to results\n",
    "\n",
    "# Create a DataFrame\n",
    "df = pd.DataFrame({\n",
    "    'WER': wers,\n",
    "    'Parameters': params,\n",
    "    'Time Taken': times,\n",
    "    'Result Path': paths\n",
    "})\n"
   ]
  },
  {
   "cell_type": "markdown",
   "id": "fb87288d",
   "metadata": {},
   "source": [
    "## 2. Evaluating the Model"
   ]
  },
  {
   "cell_type": "markdown",
   "id": "45b067fc",
   "metadata": {},
   "source": [
    "As the training advanced, particularly with the incorporation of **Deep Neural Networks \n",
    "(DNNs)**, there was a marked enhancement in the model's accuracy. By the conclusion of the \n",
    "training process, the WER had substantially **decreased to 17.3%**. This improvement is \n",
    "indicative of the DNN's effectiveness in refining the model's ability to discern and process \n",
    "complex speech patterns. The graph below illustrates this trajectory of improvement, visually \n",
    "representing the decrease in WER from the initial monophone stage through to the\n",
    "sophisticated DNN stage"
   ]
  },
  {
   "cell_type": "code",
   "execution_count": 22,
   "id": "d1fcbec3",
   "metadata": {},
   "outputs": [
    {
     "data": {
      "image/png": "[encoded data removed]",
      "text/plain": [
       "<Figure size 1200x800 with 1 Axes>"
      ]
     },
     "metadata": {},
     "output_type": "display_data"
    }
   ],
   "source": [
    "# Assuming 'df' is your DataFrame after parsing the output.\n",
    "\n",
    "# Convert WER to numeric values for sorting and plotting\n",
    "df['WER'] = pd.to_numeric(df['WER'].str.replace('%WER', '').str.strip())\n",
    "\n",
    "# Sort the DataFrame by WER in descending order\n",
    "df_sorted = df.sort_values('WER', ascending=False).reset_index(drop=True)\n",
    "\n",
    "# Plotting\n",
    "plt.figure(figsize=(12, 8))\n",
    "bars = plt.bar(df_sorted.index, df_sorted['WER'])\n",
    "\n",
    "# Add the data labels on top of the bars\n",
    "for bar in bars:\n",
    "    yval = bar.get_height()\n",
    "    plt.text(bar.get_x() + bar.get_width()/2, yval, round(yval, 2), ha='center', va='bottom')\n",
    "\n",
    "plt.xlabel('Experiment Number')\n",
    "plt.ylabel('WER (%)')\n",
    "plt.title('Word Error Rate (WER) of Different Experiments Sorted by WER')\n",
    "plt.xticks(df_sorted.index, df_sorted.index + 1)  # Set x-ticks to be the indices + 1 for readability\n",
    "plt.show()\n"
   ]
  },
  {
   "cell_type": "markdown",
   "id": "fc929b7f",
   "metadata": {},
   "source": [
    "### Training Steps:\n",
    "\n",
    "1. **Monophone Stage:**\n",
    "The progression of the Automatic Speech Recognition (ASR) model, as evidenced by the \n",
    "data extracted from various training stages, exhibits a distinct trend of improvement in Word \n",
    "Error Rate (WER) with each subsequent phase. Initially, in the <span style=\"color: green;\">monophone (mono) stage, \n",
    "the model registered a WER of 31.7%</span>, indicating a preliminary phase where the model is \n",
    "trained on basic phonetic units without considering the phonetic context.\n",
    "\n",
    "2. **Triphone Stages:**\n",
    "As the training progressed into the context-dependent model's <span style=\"color: green;\">triphone stages (tri, tri1, and \n",
    "tri2), a noticeable reduction in WER was observed. Specifically, the WER dropped to 26.7%</span>\n",
    "in the tri1 stage and further decreased through subsequent triphone iterations, reflecting the \n",
    "model's increasing proficiency in leveraging phonetic context to improve accuracy. This \n",
    "reduction underscores the importance of context-dependent modelling in speech recognition, \n",
    "where the phonetic environment of each sound is taken into account, enhancing the model's \n",
    "predictive accuracy.\n",
    "\n",
    "3. **Deep Neural Network Stage:**\n",
    "Further advancements were achieved during the <span style=\"color: green;\">deep neural network (DNN) stages</span>, marked \n",
    "by a more substantial decrease in WER. Notably, when transitioning to the DNN stages, the \n",
    "<span style=\"color: green;\">WER decreased to 17.3%</span>, illustrating the significant impact of integrating advanced neural \n",
    "network architectures. This phase leverages deep learning to capture more complex \n",
    "patterns and relationships in the data, which are not discernible with simpler models"
   ]
  },
  {
   "cell_type": "code",
   "execution_count": 24,
   "id": "5e10610f",
   "metadata": {},
   "outputs": [
    {
     "data": {
      "text/html": [
       "<div>\n",
       "<style scoped>\n",
       "    .dataframe tbody tr th:only-of-type {\n",
       "        vertical-align: middle;\n",
       "    }\n",
       "\n",
       "    .dataframe tbody tr th {\n",
       "        vertical-align: top;\n",
       "    }\n",
       "\n",
       "    .dataframe thead th {\n",
       "        text-align: right;\n",
       "    }\n",
       "</style>\n",
       "<table border=\"1\" class=\"dataframe\">\n",
       "  <thead>\n",
       "    <tr style=\"text-align: right;\">\n",
       "      <th></th>\n",
       "      <th>WER</th>\n",
       "      <th>Parameters</th>\n",
       "      <th>Time Taken</th>\n",
       "      <th>Result Path</th>\n",
       "    </tr>\n",
       "  </thead>\n",
       "  <tbody>\n",
       "    <tr>\n",
       "      <th>0</th>\n",
       "      <td>31.7</td>\n",
       "      <td>400 15057</td>\n",
       "      <td>-0.805</td>\n",
       "      <td>exp/mono/decode_dev/score_4/ctm_39phn.filt.sys</td>\n",
       "    </tr>\n",
       "    <tr>\n",
       "      <th>1</th>\n",
       "      <td>32.0</td>\n",
       "      <td>192 7215</td>\n",
       "      <td>-0.433</td>\n",
       "      <td>exp/mono/decode_test/score_5/ctm_39phn.filt.sys</td>\n",
       "    </tr>\n",
       "    <tr>\n",
       "      <th>2</th>\n",
       "      <td>24.9</td>\n",
       "      <td>400 15057</td>\n",
       "      <td>-0.165</td>\n",
       "      <td>exp/tri1/decode_dev/score_10/ctm_39phn.filt.sys</td>\n",
       "    </tr>\n",
       "    <tr>\n",
       "      <th>3</th>\n",
       "      <td>26.7</td>\n",
       "      <td>192 7215</td>\n",
       "      <td>-0.150</td>\n",
       "      <td>exp/tri1/decode_test/score_10/ctm_39phn.filt.sys</td>\n",
       "    </tr>\n",
       "    <tr>\n",
       "      <th>4</th>\n",
       "      <td>22.9</td>\n",
       "      <td>400 15057</td>\n",
       "      <td>-0.288</td>\n",
       "      <td>exp/tri2/decode_dev/score_10/ctm_39phn.filt.sys</td>\n",
       "    </tr>\n",
       "    <tr>\n",
       "      <th>5</th>\n",
       "      <td>23.7</td>\n",
       "      <td>192 7215</td>\n",
       "      <td>-0.280</td>\n",
       "      <td>exp/tri2/decode_test/score_10/ctm_39phn.filt.sys</td>\n",
       "    </tr>\n",
       "    <tr>\n",
       "      <th>6</th>\n",
       "      <td>20.7</td>\n",
       "      <td>400 15057</td>\n",
       "      <td>-0.565</td>\n",
       "      <td>exp/tri3/decode_dev/score_10/ctm_39phn.filt.sys</td>\n",
       "    </tr>\n",
       "    <tr>\n",
       "      <th>7</th>\n",
       "      <td>23.8</td>\n",
       "      <td>400 15057</td>\n",
       "      <td>-0.398</td>\n",
       "      <td>exp/tri3/decode_dev.si/score_8/ctm_39phn.filt.sys</td>\n",
       "    </tr>\n",
       "    <tr>\n",
       "      <th>8</th>\n",
       "      <td>21.4</td>\n",
       "      <td>192 7215</td>\n",
       "      <td>-0.637</td>\n",
       "      <td>exp/tri3/decode_test/score_10/ctm_39phn.filt.sys</td>\n",
       "    </tr>\n",
       "    <tr>\n",
       "      <th>9</th>\n",
       "      <td>24.1</td>\n",
       "      <td>192 7215</td>\n",
       "      <td>-0.223</td>\n",
       "      <td>exp/tri3/decode_test.si/score_10/ctm_39phn.fil...</td>\n",
       "    </tr>\n",
       "    <tr>\n",
       "      <th>10</th>\n",
       "      <td>17.5</td>\n",
       "      <td>400 15057</td>\n",
       "      <td>-0.797</td>\n",
       "      <td>exp/dnn4_pretrain-dbn_dnn/decode_dev/score_5/c...</td>\n",
       "    </tr>\n",
       "    <tr>\n",
       "      <th>11</th>\n",
       "      <td>18.7</td>\n",
       "      <td>192 7215</td>\n",
       "      <td>-1.289</td>\n",
       "      <td>exp/dnn4_pretrain-dbn_dnn/decode_test/score_4/...</td>\n",
       "    </tr>\n",
       "    <tr>\n",
       "      <th>12</th>\n",
       "      <td>17.6</td>\n",
       "      <td>400 15057</td>\n",
       "      <td>-0.789</td>\n",
       "      <td>exp/dnn4_pretrain-dbn_dnn_smbr/decode_dev_it1/...</td>\n",
       "    </tr>\n",
       "    <tr>\n",
       "      <th>13</th>\n",
       "      <td>17.3</td>\n",
       "      <td>400 15057</td>\n",
       "      <td>-0.538</td>\n",
       "      <td>exp/dnn4_pretrain-dbn_dnn_smbr/decode_dev_it6/...</td>\n",
       "    </tr>\n",
       "    <tr>\n",
       "      <th>14</th>\n",
       "      <td>18.6</td>\n",
       "      <td>192 7215</td>\n",
       "      <td>-0.655</td>\n",
       "      <td>exp/dnn4_pretrain-dbn_dnn_smbr/decode_test_it1...</td>\n",
       "    </tr>\n",
       "    <tr>\n",
       "      <th>15</th>\n",
       "      <td>18.6</td>\n",
       "      <td>192 7215</td>\n",
       "      <td>-0.640</td>\n",
       "      <td>exp/dnn4_pretrain-dbn_dnn_smbr/decode_test_it6...</td>\n",
       "    </tr>\n",
       "  </tbody>\n",
       "</table>\n",
       "</div>"
      ],
      "text/plain": [
       "     WER Parameters Time Taken  \\\n",
       "0   31.7  400 15057     -0.805   \n",
       "1   32.0   192 7215     -0.433   \n",
       "2   24.9  400 15057     -0.165   \n",
       "3   26.7   192 7215     -0.150   \n",
       "4   22.9  400 15057     -0.288   \n",
       "5   23.7   192 7215     -0.280   \n",
       "6   20.7  400 15057     -0.565   \n",
       "7   23.8  400 15057     -0.398   \n",
       "8   21.4   192 7215     -0.637   \n",
       "9   24.1   192 7215     -0.223   \n",
       "10  17.5  400 15057     -0.797   \n",
       "11  18.7   192 7215     -1.289   \n",
       "12  17.6  400 15057     -0.789   \n",
       "13  17.3  400 15057     -0.538   \n",
       "14  18.6   192 7215     -0.655   \n",
       "15  18.6   192 7215     -0.640   \n",
       "\n",
       "                                          Result Path  \n",
       "0      exp/mono/decode_dev/score_4/ctm_39phn.filt.sys  \n",
       "1     exp/mono/decode_test/score_5/ctm_39phn.filt.sys  \n",
       "2     exp/tri1/decode_dev/score_10/ctm_39phn.filt.sys  \n",
       "3    exp/tri1/decode_test/score_10/ctm_39phn.filt.sys  \n",
       "4     exp/tri2/decode_dev/score_10/ctm_39phn.filt.sys  \n",
       "5    exp/tri2/decode_test/score_10/ctm_39phn.filt.sys  \n",
       "6     exp/tri3/decode_dev/score_10/ctm_39phn.filt.sys  \n",
       "7   exp/tri3/decode_dev.si/score_8/ctm_39phn.filt.sys  \n",
       "8    exp/tri3/decode_test/score_10/ctm_39phn.filt.sys  \n",
       "9   exp/tri3/decode_test.si/score_10/ctm_39phn.fil...  \n",
       "10  exp/dnn4_pretrain-dbn_dnn/decode_dev/score_5/c...  \n",
       "11  exp/dnn4_pretrain-dbn_dnn/decode_test/score_4/...  \n",
       "12  exp/dnn4_pretrain-dbn_dnn_smbr/decode_dev_it1/...  \n",
       "13  exp/dnn4_pretrain-dbn_dnn_smbr/decode_dev_it6/...  \n",
       "14  exp/dnn4_pretrain-dbn_dnn_smbr/decode_test_it1...  \n",
       "15  exp/dnn4_pretrain-dbn_dnn_smbr/decode_test_it6...  "
      ]
     },
     "execution_count": 24,
     "metadata": {},
     "output_type": "execute_result"
    }
   ],
   "source": [
    "# Display the first few rows of the DataFrame\n",
    "df"
   ]
  },
  {
   "cell_type": "markdown",
   "id": "007ff005",
   "metadata": {},
   "source": [
    "## 3. Testing the Model"
   ]
  },
  {
   "cell_type": "code",
   "execution_count": 2,
   "id": "560be5ac",
   "metadata": {},
   "outputs": [],
   "source": [
    "decodingPath = \"../Desktop/NewKaldiFolder/kaldi/egs/timit/s5/steps\"\n",
    "dataPath = \"../Desktop/AudioTest/Simple1/SA1.WAV\""
   ]
  },
  {
   "cell_type": "code",
   "execution_count": 12,
   "id": "4d9e2f7d",
   "metadata": {},
   "outputs": [],
   "source": [
    "pythonVsersion = \" python3\"\n",
    "fileName = \" main.py \""
   ]
  },
  {
   "cell_type": "code",
   "execution_count": 20,
   "id": "e2dec19a",
   "metadata": {},
   "outputs": [],
   "source": [
    "def speechRecognition(audioFile):\n",
    "    try:\n",
    "        # Construct the command to run the speech recognition script with sudo\n",
    "        command = \"sudo -S \" + pythonVsersion + fileName + audioFile\n",
    "        \n",
    "        # Prompt the user to enter their sudo password securely\n",
    "        password = getpass.getpass(\"Enter Password (Sudo): \")\n",
    "        \n",
    "        # Run the command using subprocess.run, passing the password via input\n",
    "        result = subprocess.run(command.split(), input=password, capture_output=True, text=True, universal_newlines=True)\n",
    "        \n",
    "        # Print any error messages from the command\n",
    "        print(result.stderr)\n",
    "    except:\n",
    "        # Print an error message if the command fails\n",
    "        print('Error: ', result.stderr)\n",
    "\n",
    "\n",
    "def readFile(command):\n",
    "    try:\n",
    "        # Run the command with subprocess.run and capture the output\n",
    "        result = subprocess.run(command.split(), capture_output=True, text=True)\n",
    "        \n",
    "        # Raise an exception if the command returns a non-zero exit code\n",
    "        if result.returncode != 0:\n",
    "            raise Exception(result.stderr)\n",
    "        \n",
    "        # Print the standard output of the command\n",
    "        print(result.stdout)\n",
    "    except Exception as error:\n",
    "        # Print the error message if an exception occurs\n",
    "        print(\"Error: \", error)\n",
    "\n",
    "\n",
    "\n",
    "def convertToWavFromat(inputFile, outputFile, command2=\"\"):\n",
    "    # Use the provided command if available, otherwise construct the ffmpeg command\n",
    "    if command2 == \"\":\n",
    "        command = \"ffmpeg -i \" + inputFile + \" \" + outputFile\n",
    "    else:\n",
    "        command = command2\n",
    "        \n",
    "    # Run the command using subprocess.run and capture the output\n",
    "    result = subprocess.run(command.split(), stdout=subprocess.PIPE, stderr=subprocess.PIPE, text=True)\n",
    "    \n",
    "    # Print success or error messages based on the command's exit code\n",
    "    if result.returncode == 0: \n",
    "        print(\"* The command was successful.\")\n",
    "        print(result.stderr)\n",
    "    else:\n",
    "        print(\"* An error occurred: \")\n",
    "        print(result.stderr)\n",
    "\n",
    "        \n",
    "def calculateWordErrorRate(originalText, generatedText):\n",
    "    # Convert both strings to lower case to ensure case insensitivity\n",
    "    originalText = originalText.lower()\n",
    "    generatedText = generatedText.lower()\n",
    "\n",
    "    # Remove punctuation from both strings\n",
    "    originalText = re.sub(r'[^\\w\\s]', '', originalText)\n",
    "    generatedText = re.sub(r'[^\\w\\s]', '', generatedText)\n",
    "    \n",
    "    # Calculate the word error rate (WER)\n",
    "    percentageWER = wer(originalText, generatedText)\n",
    "    percentageWER *= 100\n",
    "    \n",
    "    # Round the WER percentage to two decimal places\n",
    "    finalValue = round(percentageWER, 2)\n",
    "    \n",
    "    # Return the WER as a formatted string\n",
    "    return f\"{finalValue}%\""
   ]
  },
  {
   "cell_type": "markdown",
   "id": "cdd23fee",
   "metadata": {},
   "source": [
    "### a. Sample 1"
   ]
  },
  {
   "cell_type": "code",
   "execution_count": 14,
   "id": "b73d33aa",
   "metadata": {},
   "outputs": [
    {
     "name": "stdout",
     "output_type": "stream",
     "text": [
      "* An error occurred: \n",
      "ffmpeg version 4.4.2-0ubuntu0.22.04.1 Copyright (c) 2000-2021 the FFmpeg developers\n",
      "  built with gcc 11 (Ubuntu 11.2.0-19ubuntu1)\n",
      "  configuration: --prefix=/usr --extra-version=0ubuntu0.22.04.1 --toolchain=hardened --libdir=/usr/lib/x86_64-linux-gnu --incdir=/usr/include/x86_64-linux-gnu --arch=amd64 --enable-gpl --disable-stripping --enable-gnutls --enable-ladspa --enable-libaom --enable-libass --enable-libbluray --enable-libbs2b --enable-libcaca --enable-libcdio --enable-libcodec2 --enable-libdav1d --enable-libflite --enable-libfontconfig --enable-libfreetype --enable-libfribidi --enable-libgme --enable-libgsm --enable-libjack --enable-libmp3lame --enable-libmysofa --enable-libopenjpeg --enable-libopenmpt --enable-libopus --enable-libpulse --enable-librabbitmq --enable-librubberband --enable-libshine --enable-libsnappy --enable-libsoxr --enable-libspeex --enable-libsrt --enable-libssh --enable-libtheora --enable-libtwolame --enable-libvidstab --enable-libvorbis --enable-libvpx --enable-libwebp --enable-libx265 --enable-libxml2 --enable-libxvid --enable-libzimg --enable-libzmq --enable-libzvbi --enable-lv2 --enable-omx --enable-openal --enable-opencl --enable-opengl --enable-sdl2 --enable-pocketsphinx --enable-librsvg --enable-libmfx --enable-libdc1394 --enable-libdrm --enable-libiec61883 --enable-chromaprint --enable-frei0r --enable-libx264 --enable-shared\n",
      "  libavutil      56. 70.100 / 56. 70.100\n",
      "  libavcodec     58.134.100 / 58.134.100\n",
      "  libavformat    58. 76.100 / 58. 76.100\n",
      "  libavdevice    58. 13.100 / 58. 13.100\n",
      "  libavfilter     7.110.100 /  7.110.100\n",
      "  libswscale      5.  9.100 /  5.  9.100\n",
      "  libswresample   3.  9.100 /  3.  9.100\n",
      "  libpostproc    55.  9.100 / 55.  9.100\n",
      "Guessed Channel Layout for Input Stream #0.0 : mono\n",
      "Input #0, nistsphere, from './TestData/Sample1/Sample1.WAV':\n",
      "  Metadata:\n",
      "    database_id     : TIMIT\n",
      "    database_version: 1.0\n",
      "    utterance_id    : djh0_sx215\n",
      "    sample_min      : -3472\n",
      "    sample_max      : 4805\n",
      "  Duration: 00:00:02.84, bitrate: 258 kb/s\n",
      "  Stream #0:0: Audio: pcm_s16le, 16000 Hz, mono, s16, 256 kb/s\n",
      "File './ConvertedSample1.wav' already exists. Overwrite? [y/N] Not overwriting - exiting\n",
      "\n"
     ]
    }
   ],
   "source": [
    "inputFile1 = \"./TestData/Sample1/Sample1.WAV\"\n",
    "outputFile1 = \"./ConvertedSample1.wav\"\n",
    "convertToWavFromat(inputFile1, outputFile1)"
   ]
  },
  {
   "cell_type": "code",
   "execution_count": 41,
   "id": "e3c7a02b",
   "metadata": {},
   "outputs": [
    {
     "name": "stdout",
     "output_type": "stream",
     "text": [
      "Enter Password (Sudo): ········\n",
      "tree-info exp/chain_cleaned/tdnn_1d_sp/tree \n",
      "tree-info exp/chain_cleaned/tdnn_1d_sp/tree \n",
      "fstdeterminizestar --use-log=true \n",
      "fstminimizeencoded \n",
      "fsttablecompose data/lang_test_tgsmall/L_disambig.fst data/lang_test_tgsmall/G.fst \n",
      "fstpushspecial \n",
      "fstisstochastic data/lang_test_tgsmall/tmp/LG.fst \n",
      "fstcomposecontext --context-size=2 --central-position=1 --read-disambig-syms=data/lang_test_tgsmall/phones/disambig.int --write-disambig-syms=data/lang_test_tgsmall/tmp/disambig_ilabels_2_1.int data/lang_test_tgsmall/tmp/ilabels_2_1.63995 data/lang_test_tgsmall/tmp/LG.fst \n",
      "fstisstochastic data/lang_test_tgsmall/tmp/CLG_2_1.fst \n",
      "make-h-transducer --disambig-syms-out=exp/chain_cleaned/tdnn_1d_sp/graph_tgsmall/disambig_tid.int --transition-scale=1.0 data/lang_test_tgsmall/tmp/ilabels_2_1 exp/chain_cleaned/tdnn_1d_sp/tree exp/chain_cleaned/tdnn_1d_sp/final.mdl \n",
      "fsttablecompose exp/chain_cleaned/tdnn_1d_sp/graph_tgsmall/Ha.fst 'fstrmsymbols --remove-arcs=true --apply-to-output=true data/lang_test_tgsmall/oov.int data/lang_test_tgsmall/tmp/CLG_2_1.fst|' \n",
      "fstrmepslocal \n",
      "fstrmsymbols exp/chain_cleaned/tdnn_1d_sp/graph_tgsmall/disambig_tid.int \n",
      "fstminimizeencoded \n",
      "fstdeterminizestar --use-log=true \n",
      "fstrmsymbols --remove-arcs=true --apply-to-output=true data/lang_test_tgsmall/oov.int data/lang_test_tgsmall/tmp/CLG_2_1.fst \n",
      "fstisstochastic exp/chain_cleaned/tdnn_1d_sp/graph_tgsmall/HCLGa.fst \n",
      "add-self-loops --self-loop-scale=1.0 --reorder=true exp/chain_cleaned/tdnn_1d_sp/final.mdl exp/chain_cleaned/tdnn_1d_sp/graph_tgsmall/HCLGa.fst \n",
      "fstisstochastic exp/chain_cleaned/tdnn_1d_sp/graph_tgsmall/HCLG.fst \n",
      "../../../src/latbin/lattice-best-path 'ark:gunzip -c exp/chain_cleaned/tdnn_1d_sp/decode_test_tgsmall/lat.1.gz |' 'ark,t:| utils/int2sym.pl -f 2- /home/anas/KaldiASR/kaldi/egs/kaldi-asr-tutorial/s5/exp/chain_cleaned/tdnn_1d_sp/graph_tgsmall/words.txt > out.txt' \n",
      "LOG (lattice-best-path[5.5.1126~1-8c451]:main():lattice-best-path.cc:99) For utterance ./ConvertedSample1, best cost 127.05 + -4244.72 = -4117.67 over 94 frames.\n",
      "LOG (lattice-best-path[5.5.1126~1-8c451]:main():lattice-best-path.cc:124) Overall cost per frame is -43.805 = 1.3516 [graph] + -45.1566 [acoustic] over 94 frames.\n",
      "LOG (lattice-best-path[5.5.1126~1-8c451]:main():lattice-best-path.cc:128) Done 1 lattices, failed for 0\n",
      "../../../src/latbin/lattice-best-path 'ark:gunzip -c exp/chain_cleaned/tdnn_1d_sp/decode_test_rescore/lat.1.gz |' 'ark,t:| utils/int2sym.pl -f 2- /home/anas/KaldiASR/kaldi/egs/kaldi-asr-tutorial/s5/exp/chain_cleaned/tdnn_1d_sp/graph_tgsmall/words.txt > out_rescore.txt' \n",
      "LOG (lattice-best-path[5.5.1126~1-8c451]:main():lattice-best-path.cc:99) For utterance ./ConvertedSample1, best cost 124.922 + -4244.72 = -4119.79 over 94 frames.\n",
      "LOG (lattice-best-path[5.5.1126~1-8c451]:main():lattice-best-path.cc:124) Overall cost per frame is -43.8276 = 1.32896 [graph] + -45.1566 [acoustic] over 94 frames.\n",
      "LOG (lattice-best-path[5.5.1126~1-8c451]:main():lattice-best-path.cc:128) Done 1 lattices, failed for 0\n",
      "\n"
     ]
    }
   ],
   "source": [
    "speechRecognition(outputFile1)"
   ]
  },
  {
   "cell_type": "code",
   "execution_count": 18,
   "id": "05a0eca7",
   "metadata": {},
   "outputs": [
    {
     "name": "stderr",
     "output_type": "stream",
     "text": [
      "Input #0, wav, from '/tmp/tmp67g98st8.wav':   0KB sq=    0B f=0/0   \n",
      "  Duration: 00:00:02.84, bitrate: 256 kb/s\n",
      "  Stream #0:0: Audio: pcm_s16le ([1][0][0][0] / 0x0001), 16000 Hz, 1 channels, s16, 256 kb/s\n",
      "   2.75 M-A: -0.000 fd=   0 aq=    0KB vq=    0KB sq=    0B f=0/0   \r"
     ]
    },
    {
     "name": "stdout",
     "output_type": "stream",
     "text": [
      "\n"
     ]
    }
   ],
   "source": [
    "#playsound('./ConvertedSample1.wav')\n",
    "audio = AudioSegment.from_wav(outputFile1)\n",
    "play(audio)"
   ]
  },
  {
   "cell_type": "code",
   "execution_count": 46,
   "id": "a8d731a4",
   "metadata": {},
   "outputs": [
    {
     "name": "stdout",
     "output_type": "stream",
     "text": [
      "0 45466 The sermon emphasized the need for affirmative action.\n",
      "\n"
     ]
    }
   ],
   "source": [
    "# Original Text\n",
    "command = \"cat ./TestData/Sample1/Sample1Text\"\n",
    "readFile(command)"
   ]
  },
  {
   "cell_type": "code",
   "execution_count": 47,
   "id": "394decec",
   "metadata": {},
   "outputs": [
    {
     "name": "stdout",
     "output_type": "stream",
     "text": [
      "./ConvertedSample1 THE SERMON EMPHASIZE THE NEED FOR AFFIRMATIVE ACTION \n",
      "\n"
     ]
    }
   ],
   "source": [
    "# Generated text\n",
    "command = \"cat ./out.txt\"\n",
    "readFile(command)"
   ]
  },
  {
   "cell_type": "code",
   "execution_count": 69,
   "id": "e739d0fa",
   "metadata": {},
   "outputs": [
    {
     "name": "stdout",
     "output_type": "stream",
     "text": [
      "Word Error Rate: 12.5%\n"
     ]
    }
   ],
   "source": [
    "# Sample original text\n",
    "originalTextSample1 = \"The sermon emphasized the need for affirmative action.\"\n",
    "# Sample generated text\n",
    "generatedTextSample1 = \"THE SERMON EMPHASIZE THE NEED FOR AFFIRMATIVE ACTION\"\n",
    "# Calculating Word-Error-Rate (WER) between the original and generated text\n",
    "WordErrorRate = calculateWordErrorRate(originalTextSample1, generatedTextSample1)\n",
    "# Printing the calculated WER\n",
    "print(\"Word Error Rate:\", WordErrorRate)"
   ]
  },
  {
   "cell_type": "markdown",
   "id": "5c8e55ae",
   "metadata": {},
   "source": [
    "#### **Performance Assessment:** \n",
    "In the evaluation of Sample 1 from the ASR model testing, the system processed an audio \n",
    "file, converting it into a textual output that was then compared against a pre-defined original \n",
    "text for accuracy assessment. The original text for this sample reads: \"The sermon \n",
    "emphasized the need for affirmative action.\" However, the ASR-generated text was: \"THE \n",
    "SERMON EMPHASIZE THE NEED FOR AFFIRMATIVE ACTION.\" This discrepancy \n",
    "highlights a slight variation in verb tense, where the original \"emphasized\" was recognized \n",
    "as \"emphasize\". The evaluation metric used to quantify the accuracy of the transcription is \n",
    "the Word Error Rate (WER), A WER of 12.5% suggests that the ASR model has a moderate \n",
    "level of accuracy, capturing the essence of the spoken text with some errors in verb \n",
    "conjugation. The result indicates that while the ASR system can effectively capture the \n",
    "content of the speech, there are areas of improvement, particularly in accurately recognizing \n",
    "verb tenses, which could enhance the overall effectiveness of the system."
   ]
  },
  {
   "cell_type": "markdown",
   "id": "df884fce",
   "metadata": {},
   "source": [
    "### b. Sample 2"
   ]
  },
  {
   "cell_type": "code",
   "execution_count": 15,
   "id": "6e5d07fc",
   "metadata": {
    "scrolled": true
   },
   "outputs": [
    {
     "name": "stdout",
     "output_type": "stream",
     "text": [
      "* An error occurred: \n",
      "ffmpeg version 4.4.2-0ubuntu0.22.04.1 Copyright (c) 2000-2021 the FFmpeg developers\n",
      "  built with gcc 11 (Ubuntu 11.2.0-19ubuntu1)\n",
      "  configuration: --prefix=/usr --extra-version=0ubuntu0.22.04.1 --toolchain=hardened --libdir=/usr/lib/x86_64-linux-gnu --incdir=/usr/include/x86_64-linux-gnu --arch=amd64 --enable-gpl --disable-stripping --enable-gnutls --enable-ladspa --enable-libaom --enable-libass --enable-libbluray --enable-libbs2b --enable-libcaca --enable-libcdio --enable-libcodec2 --enable-libdav1d --enable-libflite --enable-libfontconfig --enable-libfreetype --enable-libfribidi --enable-libgme --enable-libgsm --enable-libjack --enable-libmp3lame --enable-libmysofa --enable-libopenjpeg --enable-libopenmpt --enable-libopus --enable-libpulse --enable-librabbitmq --enable-librubberband --enable-libshine --enable-libsnappy --enable-libsoxr --enable-libspeex --enable-libsrt --enable-libssh --enable-libtheora --enable-libtwolame --enable-libvidstab --enable-libvorbis --enable-libvpx --enable-libwebp --enable-libx265 --enable-libxml2 --enable-libxvid --enable-libzimg --enable-libzmq --enable-libzvbi --enable-lv2 --enable-omx --enable-openal --enable-opencl --enable-opengl --enable-sdl2 --enable-pocketsphinx --enable-librsvg --enable-libmfx --enable-libdc1394 --enable-libdrm --enable-libiec61883 --enable-chromaprint --enable-frei0r --enable-libx264 --enable-shared\n",
      "  libavutil      56. 70.100 / 56. 70.100\n",
      "  libavcodec     58.134.100 / 58.134.100\n",
      "  libavformat    58. 76.100 / 58. 76.100\n",
      "  libavdevice    58. 13.100 / 58. 13.100\n",
      "  libavfilter     7.110.100 /  7.110.100\n",
      "  libswscale      5.  9.100 /  5.  9.100\n",
      "  libswresample   3.  9.100 /  3.  9.100\n",
      "  libpostproc    55.  9.100 / 55.  9.100\n",
      "Guessed Channel Layout for Input Stream #0.0 : mono\n",
      "Input #0, nistsphere, from './TestData/Sample2/Sample2.WAV':\n",
      "  Metadata:\n",
      "    database_id     : TIMIT\n",
      "    database_version: 1.0\n",
      "    utterance_id    : djh0_sx395\n",
      "    sample_min      : -4512\n",
      "    sample_max      : 5874\n",
      "  Duration: 00:00:02.94, bitrate: 258 kb/s\n",
      "  Stream #0:0: Audio: pcm_s16le, 16000 Hz, mono, s16, 256 kb/s\n",
      "File './ConvertedSample2.wav' already exists. Overwrite? [y/N] Not overwriting - exiting\n",
      "\n"
     ]
    }
   ],
   "source": [
    "inputFile2 = \"./TestData/Sample2/Sample2.WAV\"\n",
    "outputFile2 = \"./ConvertedSample2.wav\"\n",
    "convertToWavFromat(inputFile2, outputFile2)"
   ]
  },
  {
   "cell_type": "code",
   "execution_count": 48,
   "id": "f34e0386",
   "metadata": {},
   "outputs": [
    {
     "name": "stdout",
     "output_type": "stream",
     "text": [
      "Enter Password (Sudo): ········\n",
      "tree-info exp/chain_cleaned/tdnn_1d_sp/tree \n",
      "tree-info exp/chain_cleaned/tdnn_1d_sp/tree \n",
      "fsttablecompose data/lang_test_tgsmall/L_disambig.fst data/lang_test_tgsmall/G.fst \n",
      "fstpushspecial \n",
      "fstminimizeencoded \n",
      "fstdeterminizestar --use-log=true \n",
      "fstisstochastic data/lang_test_tgsmall/tmp/LG.fst \n",
      "fstcomposecontext --context-size=2 --central-position=1 --read-disambig-syms=data/lang_test_tgsmall/phones/disambig.int --write-disambig-syms=data/lang_test_tgsmall/tmp/disambig_ilabels_2_1.int data/lang_test_tgsmall/tmp/ilabels_2_1.65376 data/lang_test_tgsmall/tmp/LG.fst \n",
      "fstisstochastic data/lang_test_tgsmall/tmp/CLG_2_1.fst \n",
      "make-h-transducer --disambig-syms-out=exp/chain_cleaned/tdnn_1d_sp/graph_tgsmall/disambig_tid.int --transition-scale=1.0 data/lang_test_tgsmall/tmp/ilabels_2_1 exp/chain_cleaned/tdnn_1d_sp/tree exp/chain_cleaned/tdnn_1d_sp/final.mdl \n",
      "fstrmepslocal \n",
      "fstrmsymbols exp/chain_cleaned/tdnn_1d_sp/graph_tgsmall/disambig_tid.int \n",
      "fsttablecompose exp/chain_cleaned/tdnn_1d_sp/graph_tgsmall/Ha.fst 'fstrmsymbols --remove-arcs=true --apply-to-output=true data/lang_test_tgsmall/oov.int data/lang_test_tgsmall/tmp/CLG_2_1.fst|' \n",
      "fstminimizeencoded \n",
      "fstdeterminizestar --use-log=true \n",
      "fstrmsymbols --remove-arcs=true --apply-to-output=true data/lang_test_tgsmall/oov.int data/lang_test_tgsmall/tmp/CLG_2_1.fst \n",
      "fstisstochastic exp/chain_cleaned/tdnn_1d_sp/graph_tgsmall/HCLGa.fst \n",
      "add-self-loops --self-loop-scale=1.0 --reorder=true exp/chain_cleaned/tdnn_1d_sp/final.mdl exp/chain_cleaned/tdnn_1d_sp/graph_tgsmall/HCLGa.fst \n",
      "fstisstochastic exp/chain_cleaned/tdnn_1d_sp/graph_tgsmall/HCLG.fst \n",
      "../../../src/latbin/lattice-best-path 'ark:gunzip -c exp/chain_cleaned/tdnn_1d_sp/decode_test_tgsmall/lat.1.gz |' 'ark,t:| utils/int2sym.pl -f 2- /home/anas/KaldiASR/kaldi/egs/kaldi-asr-tutorial/s5/exp/chain_cleaned/tdnn_1d_sp/graph_tgsmall/words.txt > out.txt' \n",
      "LOG (lattice-best-path[5.5.1126~1-8c451]:main():lattice-best-path.cc:99) For utterance ./ConvertedSample2, best cost 139.904 + -4604.66 = -4464.75 over 98 frames.\n",
      "LOG (lattice-best-path[5.5.1126~1-8c451]:main():lattice-best-path.cc:124) Overall cost per frame is -45.5587 = 1.42759 [graph] + -46.9863 [acoustic] over 98 frames.\n",
      "LOG (lattice-best-path[5.5.1126~1-8c451]:main():lattice-best-path.cc:128) Done 1 lattices, failed for 0\n",
      "../../../src/latbin/lattice-best-path 'ark:gunzip -c exp/chain_cleaned/tdnn_1d_sp/decode_test_rescore/lat.1.gz |' 'ark,t:| utils/int2sym.pl -f 2- /home/anas/KaldiASR/kaldi/egs/kaldi-asr-tutorial/s5/exp/chain_cleaned/tdnn_1d_sp/graph_tgsmall/words.txt > out_rescore.txt' \n",
      "LOG (lattice-best-path[5.5.1126~1-8c451]:main():lattice-best-path.cc:99) For utterance ./ConvertedSample2, best cost 132.736 + -4590.41 = -4457.67 over 98 frames.\n",
      "LOG (lattice-best-path[5.5.1126~1-8c451]:main():lattice-best-path.cc:124) Overall cost per frame is -45.4864 = 1.35445 [graph] + -46.8409 [acoustic] over 98 frames.\n",
      "LOG (lattice-best-path[5.5.1126~1-8c451]:main():lattice-best-path.cc:128) Done 1 lattices, failed for 0\n",
      "\n"
     ]
    }
   ],
   "source": [
    "speechRecognition(outputFile2)"
   ]
  },
  {
   "cell_type": "code",
   "execution_count": 19,
   "id": "e71341ec",
   "metadata": {},
   "outputs": [
    {
     "name": "stderr",
     "output_type": "stream",
     "text": [
      "Input #0, wav, from '/tmp/tmpby_fsn8y.wav':   0KB sq=    0B f=0/0   \n",
      "  Duration: 00:00:02.94, bitrate: 256 kb/s\n",
      "  Stream #0:0: Audio: pcm_s16le ([1][0][0][0] / 0x0001), 16000 Hz, 1 channels, s16, 256 kb/s\n",
      "   2.75 M-A:  0.000 fd=   0 aq=    0KB vq=    0KB sq=    0B f=0/0   \r"
     ]
    },
    {
     "name": "stdout",
     "output_type": "stream",
     "text": [
      "\n"
     ]
    }
   ],
   "source": [
    "# PLay audio: Sample 2\n",
    "audio = AudioSegment.from_wav(outputFile2)\n",
    "play(audio)"
   ]
  },
  {
   "cell_type": "code",
   "execution_count": 49,
   "id": "df99b4f2",
   "metadata": {
    "scrolled": true
   },
   "outputs": [
    {
     "name": "stdout",
     "output_type": "stream",
     "text": [
      "0 47104 I took her word for it, but is she really going with you?\n",
      "\n"
     ]
    }
   ],
   "source": [
    "# Original Text\n",
    "command = \"cat ./TestData/Sample2/Sample2Text\"\n",
    "readFile(command)"
   ]
  },
  {
   "cell_type": "code",
   "execution_count": 50,
   "id": "68f69968",
   "metadata": {},
   "outputs": [
    {
     "name": "stdout",
     "output_type": "stream",
     "text": [
      "./ConvertedSample2 I TOOK HER WORD FOR IT BIT AS SHE REALLY GOING WITH YOU \n",
      "\n"
     ]
    }
   ],
   "source": [
    "# Generated Text\n",
    "command = \"cat ./out.txt\"\n",
    "readFile(command)"
   ]
  },
  {
   "cell_type": "code",
   "execution_count": 68,
   "id": "6d9a7648",
   "metadata": {},
   "outputs": [
    {
     "name": "stdout",
     "output_type": "stream",
     "text": [
      "Word Error Rate: 15.38%\n"
     ]
    }
   ],
   "source": [
    "# Sample original text\n",
    "originalTextSample2 = \"I took her word for it, but is she really going with you?\"\n",
    "# Sample generated text\n",
    "generatedTextSample2 = \"I TOOK HER WORD FOR IT BIT AS SHE REALLY GOING WITH YOU\"\n",
    "# Calculating Word-Error-Rate (WER) between the original and generated text\n",
    "WordErrorRate = calculateWordErrorRate(originalTextSample2, generatedTextSample2)\n",
    "# Printing the calculated WER\n",
    "print(\"Word Error Rate:\", WordErrorRate)  ##Word Error Rate: 15.38%"
   ]
  },
  {
   "cell_type": "markdown",
   "id": "aa0f4780",
   "metadata": {},
   "source": [
    "#### Performance Assessment:\n",
    "In the evaluation of Sample 2 from the testing of the Automatic Speech Recognition (ASR) \n",
    "model, the ASR system was tasked with transcribing an audio sample into text, which was \n",
    "subsequently compared to a predetermined original text to assess transcription accuracy. \n",
    "The original text for Sample 2 states: \"I took her word for it, but is she really going with you?\" \n",
    "However, the ASR-generated text read: \"I TOOK HER WORD FOR IT BIT AS SHE REALLY \n",
    "GOING WITH YOU,\" indicating a misinterpretation of the conjunction \"but\" as \"bit\" and a \n",
    "missing \"is.\".\n",
    "The Word Error Rate (WER) for this sample was calculated to be 15.38%. The WER \n",
    "quantifies the percentage of errors present in the generated text by accounting for \n",
    "substitutions, deletions, and insertions relative to the length of the original text. A WER of \n",
    "15.38% suggests that while the model is capable of capturing the general context of the\n",
    "spoken content, there are notable errors that impact the preciseness of the transcription. \n",
    "This discrepancy highlights areas where the model's performance could be enhanced, \n",
    "particularly in its ability to accurately recognize conjunctions and maintain grammatical \n",
    "structure."
   ]
  },
  {
   "cell_type": "markdown",
   "id": "09022448",
   "metadata": {},
   "source": [
    "### c. Sample 3: (noisy Data)"
   ]
  },
  {
   "cell_type": "code",
   "execution_count": 27,
   "id": "1bbd25d6",
   "metadata": {},
   "outputs": [
    {
     "name": "stdout",
     "output_type": "stream",
     "text": [
      "* The command was successful.\n",
      "ffmpeg version 4.4.2-0ubuntu0.22.04.1 Copyright (c) 2000-2021 the FFmpeg developers\n",
      "  built with gcc 11 (Ubuntu 11.2.0-19ubuntu1)\n",
      "  configuration: --prefix=/usr --extra-version=0ubuntu0.22.04.1 --toolchain=hardened --libdir=/usr/lib/x86_64-linux-gnu --incdir=/usr/include/x86_64-linux-gnu --arch=amd64 --enable-gpl --disable-stripping --enable-gnutls --enable-ladspa --enable-libaom --enable-libass --enable-libbluray --enable-libbs2b --enable-libcaca --enable-libcdio --enable-libcodec2 --enable-libdav1d --enable-libflite --enable-libfontconfig --enable-libfreetype --enable-libfribidi --enable-libgme --enable-libgsm --enable-libjack --enable-libmp3lame --enable-libmysofa --enable-libopenjpeg --enable-libopenmpt --enable-libopus --enable-libpulse --enable-librabbitmq --enable-librubberband --enable-libshine --enable-libsnappy --enable-libsoxr --enable-libspeex --enable-libsrt --enable-libssh --enable-libtheora --enable-libtwolame --enable-libvidstab --enable-libvorbis --enable-libvpx --enable-libwebp --enable-libx265 --enable-libxml2 --enable-libxvid --enable-libzimg --enable-libzmq --enable-libzvbi --enable-lv2 --enable-omx --enable-openal --enable-opencl --enable-opengl --enable-sdl2 --enable-pocketsphinx --enable-librsvg --enable-libmfx --enable-libdc1394 --enable-libdrm --enable-libiec61883 --enable-chromaprint --enable-frei0r --enable-libx264 --enable-shared\n",
      "  libavutil      56. 70.100 / 56. 70.100\n",
      "  libavcodec     58.134.100 / 58.134.100\n",
      "  libavformat    58. 76.100 / 58. 76.100\n",
      "  libavdevice    58. 13.100 / 58. 13.100\n",
      "  libavfilter     7.110.100 /  7.110.100\n",
      "  libswscale      5.  9.100 /  5.  9.100\n",
      "  libswresample   3.  9.100 /  3.  9.100\n",
      "  libpostproc    55.  9.100 / 55.  9.100\n",
      "[mp3 @ 0x58a4636e66c0] Estimating duration from bitrate, this may be inaccurate\n",
      "Input #0, mp3, from './TestData/Sample3/Sample3MP3.mp3':\n",
      "  Duration: 00:00:20.58, start: 0.000000, bitrate: 186 kb/s\n",
      "  Stream #0:0: Audio: mp3, 44100 Hz, stereo, fltp, 186 kb/s\n",
      "Stream mapping:\n",
      "  Stream #0:0 -> #0:0 (mp3 (mp3float) -> pcm_s16le (native))\n",
      "Press [q] to stop, [?] for help\n",
      "Output #0, wav, to 'ConvertedSample3.wav':\n",
      "  Metadata:\n",
      "    ISFT            : Lavf58.76.100\n",
      "  Stream #0:0: Audio: pcm_s16le ([1][0][0][0] / 0x0001), 44100 Hz, stereo, s16, 1411 kb/s\n",
      "    Metadata:\n",
      "      encoder         : Lavc58.134.100 pcm_s16le\n",
      "size=       5kB time=00:00:00.00 bitrate=N/A speed=N/A    \n",
      "size=    3668kB time=00:00:21.26 bitrate=1413.0kbits/s speed= 966x    \n",
      "video:0kB audio:3668kB subtitle:0kB other streams:0kB global headers:0kB muxing overhead: 0.002077%\n",
      "\n"
     ]
    }
   ],
   "source": [
    "inputFile3= \"./TestData/Sample3/Sample3MP3.mp3\"\n",
    "outputFile3 = \"./ConvertedSample3.wav\"\n",
    "command = \"ffmpeg -i ./TestData/Sample3/Sample3MP3.mp3 -acodec pcm_s16le -ar 44100 -ac 2 ConvertedSample3.wav\"\n",
    "convertToWavFromat(inputFile3, outputFile3, command)"
   ]
  },
  {
   "cell_type": "code",
   "execution_count": 34,
   "id": "d8da0a67",
   "metadata": {},
   "outputs": [
    {
     "name": "stderr",
     "output_type": "stream",
     "text": [
      "Input #0, wav, from '/tmp/tmp2dwhrilb.wav':   0KB sq=    0B f=0/0   \n",
      "  Duration: 00:00:21.29, bitrate: 1411 kb/s\n",
      "  Stream #0:0: Audio: pcm_s16le ([1][0][0][0] / 0x0001), 44100 Hz, 2 channels, s16, 1411 kb/s\n",
      "  21.20 M-A:  0.000 fd=   0 aq=    0KB vq=    0KB sq=    0B f=0/0   \r"
     ]
    },
    {
     "name": "stdout",
     "output_type": "stream",
     "text": [
      "\n"
     ]
    }
   ],
   "source": [
    "audio = AudioSegment.from_wav(outputFile3)\n",
    "play(audio)"
   ]
  },
  {
   "cell_type": "code",
   "execution_count": 29,
   "id": "fff42476",
   "metadata": {},
   "outputs": [
    {
     "name": "stdout",
     "output_type": "stream",
     "text": [
      "Enter Password (Sudo): ········\n",
      "[sudo] password for anas: tree-info exp/chain_cleaned/tdnn_1d_sp/tree \n",
      "tree-info exp/chain_cleaned/tdnn_1d_sp/tree \n",
      "fsttablecompose data/lang_test_tgsmall/L_disambig.fst data/lang_test_tgsmall/G.fst \n",
      "fstminimizeencoded \n",
      "fstpushspecial \n",
      "fstdeterminizestar --use-log=true \n",
      "fstisstochastic data/lang_test_tgsmall/tmp/LG.fst \n",
      "fstcomposecontext --context-size=2 --central-position=1 --read-disambig-syms=data/lang_test_tgsmall/phones/disambig.int --write-disambig-syms=data/lang_test_tgsmall/tmp/disambig_ilabels_2_1.int data/lang_test_tgsmall/tmp/ilabels_2_1.79561 data/lang_test_tgsmall/tmp/LG.fst \n",
      "fstisstochastic data/lang_test_tgsmall/tmp/CLG_2_1.fst \n",
      "make-h-transducer --disambig-syms-out=exp/chain_cleaned/tdnn_1d_sp/graph_tgsmall/disambig_tid.int --transition-scale=1.0 data/lang_test_tgsmall/tmp/ilabels_2_1 exp/chain_cleaned/tdnn_1d_sp/tree exp/chain_cleaned/tdnn_1d_sp/final.mdl \n",
      "fstrmepslocal \n",
      "fsttablecompose exp/chain_cleaned/tdnn_1d_sp/graph_tgsmall/Ha.fst 'fstrmsymbols --remove-arcs=true --apply-to-output=true data/lang_test_tgsmall/oov.int data/lang_test_tgsmall/tmp/CLG_2_1.fst|' \n",
      "fstrmsymbols exp/chain_cleaned/tdnn_1d_sp/graph_tgsmall/disambig_tid.int \n",
      "fstdeterminizestar --use-log=true \n",
      "fstminimizeencoded \n",
      "fstrmsymbols --remove-arcs=true --apply-to-output=true data/lang_test_tgsmall/oov.int data/lang_test_tgsmall/tmp/CLG_2_1.fst \n",
      "fstisstochastic exp/chain_cleaned/tdnn_1d_sp/graph_tgsmall/HCLGa.fst \n",
      "add-self-loops --self-loop-scale=1.0 --reorder=true exp/chain_cleaned/tdnn_1d_sp/final.mdl exp/chain_cleaned/tdnn_1d_sp/graph_tgsmall/HCLGa.fst \n",
      "fstisstochastic exp/chain_cleaned/tdnn_1d_sp/graph_tgsmall/HCLG.fst \n",
      "../../../src/latbin/lattice-best-path 'ark:gunzip -c exp/chain_cleaned/tdnn_1d_sp/decode_test_tgsmall/lat.1.gz |' 'ark,t:| utils/int2sym.pl -f 2- /home/anas/KaldiASR/kaldi/egs/kaldi-asr-tutorial/s5/exp/chain_cleaned/tdnn_1d_sp/graph_tgsmall/words.txt > out.txt' \n",
      "LOG (lattice-best-path[5.5.1126~1-8c451]:main():lattice-best-path.cc:99) For utterance ./ConvertedSample3, best cost 853.822 + -21578.2 = -20724.4 over 709 frames.\n",
      "LOG (lattice-best-path[5.5.1126~1-8c451]:main():lattice-best-path.cc:124) Overall cost per frame is -29.2305 = 1.20426 [graph] + -30.4347 [acoustic] over 709 frames.\n",
      "LOG (lattice-best-path[5.5.1126~1-8c451]:main():lattice-best-path.cc:128) Done 1 lattices, failed for 0\n",
      "../../../src/latbin/lattice-best-path 'ark:gunzip -c exp/chain_cleaned/tdnn_1d_sp/decode_test_rescore/lat.1.gz |' 'ark,t:| utils/int2sym.pl -f 2- /home/anas/KaldiASR/kaldi/egs/kaldi-asr-tutorial/s5/exp/chain_cleaned/tdnn_1d_sp/graph_tgsmall/words.txt > out_rescore.txt' \n",
      "LOG (lattice-best-path[5.5.1126~1-8c451]:main():lattice-best-path.cc:99) For utterance ./ConvertedSample3, best cost 818.932 + -21390.4 = -20571.4 over 709 frames.\n",
      "LOG (lattice-best-path[5.5.1126~1-8c451]:main():lattice-best-path.cc:124) Overall cost per frame is -29.0147 = 1.15505 [graph] + -30.1698 [acoustic] over 709 frames.\n",
      "LOG (lattice-best-path[5.5.1126~1-8c451]:main():lattice-best-path.cc:128) Done 1 lattices, failed for 0\n",
      "\n"
     ]
    }
   ],
   "source": [
    "speechRecognition(outputFile3)"
   ]
  },
  {
   "cell_type": "code",
   "execution_count": 32,
   "id": "ed1f025f",
   "metadata": {},
   "outputs": [
    {
     "name": "stdout",
     "output_type": "stream",
     "text": [
      "Astronomy is the study of everything in the universe beyond Earth's atmosphere. That includes objects we can see with our naked eyes, like the Sun, the Moon, the planets, and the stars. \n",
      "\n"
     ]
    }
   ],
   "source": [
    "command = \"cat ./TestData/Sample3/Sample3Text.txt\"\n",
    "readFile(command)"
   ]
  },
  {
   "cell_type": "code",
   "execution_count": 33,
   "id": "2dab63f9",
   "metadata": {},
   "outputs": [
    {
     "name": "stdout",
     "output_type": "stream",
     "text": [
      "./ConvertedSample3 OSTROM M OU THORBURN WHO REUBEN M RUFE YOM RUBENS HOOPOES ROUE BURR UNDERD OR GROUP ROOK GROOM HUGH WHOM GAVAN'S MOORED REFORM MOON BOOF MONARCH FROM BOOF OFF \n",
      "\n"
     ]
    }
   ],
   "source": [
    "command = \"cat ./out.txt\"\n",
    "readFile(command)"
   ]
  },
  {
   "cell_type": "markdown",
   "id": "96ecaab8",
   "metadata": {},
   "source": [
    "#### Analysis and Conclusion:\n",
    "The ASR (Automatic Speech Recognition) model's generated text has a WER of 100.0% compared to the original text. **This extremely high error rate indicates that the ASR model performed poorly on the provided noisy audio data**. The model likely failed to accurately transcribe the text because it was not trained on noisy data. This underscores the importance of training ASR models on diverse datasets that include noisy audio samples to improve their robustness and performance in real-world scenarios where noise is often present."
   ]
  },
  {
   "cell_type": "code",
   "execution_count": null,
   "id": "0c23fd28",
   "metadata": {},
   "outputs": [],
   "source": []
  }
 ],
 "metadata": {
  "kernelspec": {
   "display_name": "Python 3 (ipykernel)",
   "language": "python",
   "name": "python3"
  },
  "language_info": {
   "codemirror_mode": {
    "name": "ipython",
    "version": 3
   },
   "file_extension": ".py",
   "mimetype": "text/x-python",
   "name": "python",
   "nbconvert_exporter": "python",
   "pygments_lexer": "ipython3",
   "version": "3.11.5"
  }
 },
 "nbformat": 4,
 "nbformat_minor": 5
}
